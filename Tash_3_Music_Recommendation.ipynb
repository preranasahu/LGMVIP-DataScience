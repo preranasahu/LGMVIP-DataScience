{
  "nbformat": 4,
  "nbformat_minor": 0,
  "metadata": {
    "colab": {
      "name": "Tash#3-Music Recommendation",
      "provenance": [],
      "authorship_tag": "ABX9TyNCq+FX0/pITkUPfVoWOY2a",
      "include_colab_link": true
    },
    "kernelspec": {
      "name": "python3",
      "display_name": "Python 3"
    },
    "language_info": {
      "name": "python"
    }
  },
  "cells": [
    {
      "cell_type": "markdown",
      "metadata": {
        "id": "view-in-github",
        "colab_type": "text"
      },
      "source": [
        "<a href=\"https://colab.research.google.com/github/preranasahu/LGMVIP-DataScience/blob/main/Tash_3_Music_Recommendation.ipynb\" target=\"_parent\"><img src=\"https://colab.research.google.com/assets/colab-badge.svg\" alt=\"Open In Colab\"/></a>"
      ]
    },
    {
      "cell_type": "markdown",
      "metadata": {
        "id": "TXmN7_ro5TSi"
      },
      "source": [
        "Level 1:Beginner\n",
        "\n",
        "Author-Prerana sahu\n",
        "\n",
        "Task 3- Music recommendation\n",
        "\n",
        "Dataset- https://www.kaggle.com/c/kkbox-music-recommendation-challenge/data"
      ]
    },
    {
      "cell_type": "code",
      "metadata": {
        "id": "1VDirco8dR1j"
      },
      "source": [
        "import pandas as pd\n",
        "import matplotlib.pyplot as plt\n",
        "get_ipython().run_line_magic('matplotlib', 'inline')\n",
        "import numpy as np \n",
        "import seaborn as sns"
      ],
      "execution_count": null,
      "outputs": []
    },
    {
      "cell_type": "code",
      "metadata": {
        "id": "6fJarYX7f-Kp"
      },
      "source": [
        "def reduce_mem_usage(df):\n",
        "    \"\"\" iterate through all the columns of a dataframe and modify the data type\n",
        "        to reduce memory usage.        \n",
        "    \"\"\"\n",
        "    start_mem = df.memory_usage().sum() / 1024**2\n",
        "    print('Memory usage of dataframe is {:.2f} MB'.format(start_mem))\n",
        "    \n",
        "    for col in df.columns:\n",
        "        col_type = df[col].dtype\n",
        "        \n",
        "        if col_type != object:\n",
        "            c_min = df[col].min()\n",
        "            c_max = df[col].max()\n",
        "            if str(col_type)[:3] == 'int':\n",
        "                if c_min > np.iinfo(np.int8).min and c_max < np.iinfo(np.int8).max:\n",
        "                    df[col] = df[col].astype(np.int8)\n",
        "                elif c_min > np.iinfo(np.int16).min and c_max < np.iinfo(np.int16).max:\n",
        "                    df[col] = df[col].astype(np.int16)\n",
        "                elif c_min > np.iinfo(np.int32).min and c_max < np.iinfo(np.int32).max:\n",
        "                    df[col] = df[col].astype(np.int32)\n",
        "                elif c_min > np.iinfo(np.int64).min and c_max < np.iinfo(np.int64).max:\n",
        "                    df[col] = df[col].astype(np.int64)  \n",
        "            else:\n",
        "                if c_min > np.finfo(np.float16).min and c_max < np.finfo(np.float16).max:\n",
        "                    df[col] = df[col].astype(np.float16)\n",
        "                elif c_min > np.finfo(np.float32).min and c_max < np.finfo(np.float32).max:\n",
        "                    df[col] = df[col].astype(np.float32)\n",
        "                else:\n",
        "                    df[col] = df[col].astype(np.float64)\n",
        "        else:\n",
        "            df[col] = df[col].astype('category')\n",
        "\n",
        "    end_mem = df.memory_usage().sum() / 1024**2\n",
        "    print('Memory usage after optimization is: {:.2f} MB'.format(end_mem))\n",
        "    print('Decreased by {:.1f}%'.format(100 * (start_mem - end_mem) / start_mem))\n",
        "    \n",
        "    return df"
      ],
      "execution_count": null,
      "outputs": []
    },
    {
      "cell_type": "code",
      "metadata": {
        "colab": {
          "base_uri": "https://localhost:8080/"
        },
        "id": "iTwNaIEmgKA6",
        "outputId": "ed4e83ce-009e-40d2-8fbb-cf93d20b962c"
      },
      "source": [
        "train = reduce_mem_usage(pd.read_csv('train.csv'))\n",
        "#test = reduce_mem_usage(pd.read_csv('test.csv'))\n",
        "ext_song = reduce_mem_usage(pd.read_csv('song_extra_info.csv'))\n",
        "members = (pd.read_csv('members.csv',parse_dates=['registration_init_time','expiration_date']))\n",
        "songs = reduce_mem_usage(pd.read_csv('songs.csv'))"
      ],
      "execution_count": null,
      "outputs": [
        {
          "output_type": "stream",
          "name": "stdout",
          "text": [
            "Memory usage of dataframe is 31.90 MB\n",
            "Memory usage after optimization is: 11.26 MB\n",
            "Decreased by 64.7%\n",
            "Memory usage of dataframe is 47.85 MB\n",
            "Memory usage after optimization is: 260.70 MB\n",
            "Decreased by -444.9%\n",
            "Memory usage of dataframe is 87.90 MB\n",
            "Memory usage after optimization is: 151.86 MB\n",
            "Decreased by -72.8%\n"
          ]
        }
      ]
    },
    {
      "cell_type": "code",
      "metadata": {
        "colab": {
          "base_uri": "https://localhost:8080/",
          "height": 257
        },
        "id": "8r4a9nl2ghGH",
        "outputId": "249929c2-4ae7-434d-9c10-5593c562ced4"
      },
      "source": [
        "train.head()"
      ],
      "execution_count": null,
      "outputs": [
        {
          "output_type": "execute_result",
          "data": {
            "text/html": [
              "<div>\n",
              "<style scoped>\n",
              "    .dataframe tbody tr th:only-of-type {\n",
              "        vertical-align: middle;\n",
              "    }\n",
              "\n",
              "    .dataframe tbody tr th {\n",
              "        vertical-align: top;\n",
              "    }\n",
              "\n",
              "    .dataframe thead th {\n",
              "        text-align: right;\n",
              "    }\n",
              "</style>\n",
              "<table border=\"1\" class=\"dataframe\">\n",
              "  <thead>\n",
              "    <tr style=\"text-align: right;\">\n",
              "      <th></th>\n",
              "      <th>msno</th>\n",
              "      <th>song_id</th>\n",
              "      <th>source_system_tab</th>\n",
              "      <th>source_screen_name</th>\n",
              "      <th>source_type</th>\n",
              "      <th>target</th>\n",
              "    </tr>\n",
              "  </thead>\n",
              "  <tbody>\n",
              "    <tr>\n",
              "      <th>0</th>\n",
              "      <td>FGtllVqz18RPiwJj/edr2gV78zirAiY/9SmYvia+kCg=</td>\n",
              "      <td>BBzumQNXUHKdEBOB7mAJuzok+IJA1c2Ryg/yzTF6tik=</td>\n",
              "      <td>explore</td>\n",
              "      <td>Explore</td>\n",
              "      <td>online-playlist</td>\n",
              "      <td>1.0</td>\n",
              "    </tr>\n",
              "    <tr>\n",
              "      <th>1</th>\n",
              "      <td>Xumu+NIjS6QYVxDS4/t3SawvJ7viT9hPKXmf0RtLNx8=</td>\n",
              "      <td>bhp/MpSNoqoxOIB+/l8WPqu6jldth4DIpCm3ayXnJqM=</td>\n",
              "      <td>my library</td>\n",
              "      <td>Local playlist more</td>\n",
              "      <td>local-playlist</td>\n",
              "      <td>1.0</td>\n",
              "    </tr>\n",
              "    <tr>\n",
              "      <th>2</th>\n",
              "      <td>Xumu+NIjS6QYVxDS4/t3SawvJ7viT9hPKXmf0RtLNx8=</td>\n",
              "      <td>JNWfrrC7zNN7BdMpsISKa4Mw+xVJYNnxXh3/Epw7QgY=</td>\n",
              "      <td>my library</td>\n",
              "      <td>Local playlist more</td>\n",
              "      <td>local-playlist</td>\n",
              "      <td>1.0</td>\n",
              "    </tr>\n",
              "    <tr>\n",
              "      <th>3</th>\n",
              "      <td>Xumu+NIjS6QYVxDS4/t3SawvJ7viT9hPKXmf0RtLNx8=</td>\n",
              "      <td>2A87tzfnJTSWqD7gIZHisolhe4DMdzkbd6LzO1KHjNs=</td>\n",
              "      <td>my library</td>\n",
              "      <td>Local playlist more</td>\n",
              "      <td>local-playlist</td>\n",
              "      <td>1.0</td>\n",
              "    </tr>\n",
              "    <tr>\n",
              "      <th>4</th>\n",
              "      <td>FGtllVqz18RPiwJj/edr2gV78zirAiY/9SmYvia+kCg=</td>\n",
              "      <td>3qm6XTZ6MOCU11x8FIVbAGH5l5uMkT3/ZalWG1oo2Gc=</td>\n",
              "      <td>explore</td>\n",
              "      <td>Explore</td>\n",
              "      <td>online-playlist</td>\n",
              "      <td>1.0</td>\n",
              "    </tr>\n",
              "  </tbody>\n",
              "</table>\n",
              "</div>"
            ],
            "text/plain": [
              "                                           msno  ... target\n",
              "0  FGtllVqz18RPiwJj/edr2gV78zirAiY/9SmYvia+kCg=  ...    1.0\n",
              "1  Xumu+NIjS6QYVxDS4/t3SawvJ7viT9hPKXmf0RtLNx8=  ...    1.0\n",
              "2  Xumu+NIjS6QYVxDS4/t3SawvJ7viT9hPKXmf0RtLNx8=  ...    1.0\n",
              "3  Xumu+NIjS6QYVxDS4/t3SawvJ7viT9hPKXmf0RtLNx8=  ...    1.0\n",
              "4  FGtllVqz18RPiwJj/edr2gV78zirAiY/9SmYvia+kCg=  ...    1.0\n",
              "\n",
              "[5 rows x 6 columns]"
            ]
          },
          "metadata": {},
          "execution_count": 14
        }
      ]
    },
    {
      "cell_type": "code",
      "metadata": {
        "colab": {
          "base_uri": "https://localhost:8080/"
        },
        "id": "R6SjbpCKgjS6",
        "outputId": "3379bec7-dd7d-4576-857a-f6c3aeb058a9"
      },
      "source": [
        "train.info()"
      ],
      "execution_count": null,
      "outputs": [
        {
          "output_type": "stream",
          "name": "stdout",
          "text": [
            "<class 'pandas.core.frame.DataFrame'>\n",
            "RangeIndex: 696827 entries, 0 to 696826\n",
            "Data columns (total 6 columns):\n",
            " #   Column              Non-Null Count   Dtype   \n",
            "---  ------              --------------   -----   \n",
            " 0   msno                696827 non-null  category\n",
            " 1   song_id             696827 non-null  category\n",
            " 2   source_system_tab   694838 non-null  category\n",
            " 3   source_screen_name  664911 non-null  category\n",
            " 4   source_type         695153 non-null  category\n",
            " 5   target              696826 non-null  float16 \n",
            "dtypes: category(5), float16(1)\n",
            "memory usage: 11.3 MB\n"
          ]
        }
      ]
    },
    {
      "cell_type": "code",
      "metadata": {
        "colab": {
          "base_uri": "https://localhost:8080/",
          "height": 237
        },
        "id": "G2qHSSIdgnOA",
        "outputId": "9ab0948a-a9b2-4fc0-e6c1-ca7c80e33050"
      },
      "source": [
        "songs.head()"
      ],
      "execution_count": null,
      "outputs": [
        {
          "output_type": "execute_result",
          "data": {
            "text/html": [
              "<div>\n",
              "<style scoped>\n",
              "    .dataframe tbody tr th:only-of-type {\n",
              "        vertical-align: middle;\n",
              "    }\n",
              "\n",
              "    .dataframe tbody tr th {\n",
              "        vertical-align: top;\n",
              "    }\n",
              "\n",
              "    .dataframe thead th {\n",
              "        text-align: right;\n",
              "    }\n",
              "</style>\n",
              "<table border=\"1\" class=\"dataframe\">\n",
              "  <thead>\n",
              "    <tr style=\"text-align: right;\">\n",
              "      <th></th>\n",
              "      <th>song_id</th>\n",
              "      <th>song_length</th>\n",
              "      <th>genre_ids</th>\n",
              "      <th>artist_name</th>\n",
              "      <th>composer</th>\n",
              "      <th>lyricist</th>\n",
              "      <th>language</th>\n",
              "    </tr>\n",
              "  </thead>\n",
              "  <tbody>\n",
              "    <tr>\n",
              "      <th>0</th>\n",
              "      <td>CXoTN1eb7AI+DntdU1vbcwGRV4SCIDxZu+YD8JP8r4E=</td>\n",
              "      <td>247640</td>\n",
              "      <td>465</td>\n",
              "      <td>張信哲 (Jeff Chang)</td>\n",
              "      <td>董貞</td>\n",
              "      <td>何啟弘</td>\n",
              "      <td>3.0</td>\n",
              "    </tr>\n",
              "    <tr>\n",
              "      <th>1</th>\n",
              "      <td>o0kFgae9QtnYgRkVPqLJwa05zIhRlUjfF7O1tDw0ZDU=</td>\n",
              "      <td>197328</td>\n",
              "      <td>444</td>\n",
              "      <td>BLACKPINK</td>\n",
              "      <td>TEDDY|  FUTURE BOUNCE|  Bekuh BOOM</td>\n",
              "      <td>TEDDY</td>\n",
              "      <td>31.0</td>\n",
              "    </tr>\n",
              "    <tr>\n",
              "      <th>2</th>\n",
              "      <td>DwVvVurfpuz+XPuFvucclVQEyPqcpUkHR0ne1RQzPs0=</td>\n",
              "      <td>231781</td>\n",
              "      <td>465</td>\n",
              "      <td>SUPER JUNIOR</td>\n",
              "      <td>NaN</td>\n",
              "      <td>NaN</td>\n",
              "      <td>31.0</td>\n",
              "    </tr>\n",
              "    <tr>\n",
              "      <th>3</th>\n",
              "      <td>dKMBWoZyScdxSkihKG+Vf47nc18N9q4m58+b4e7dSSE=</td>\n",
              "      <td>273554</td>\n",
              "      <td>465</td>\n",
              "      <td>S.H.E</td>\n",
              "      <td>湯小康</td>\n",
              "      <td>徐世珍</td>\n",
              "      <td>3.0</td>\n",
              "    </tr>\n",
              "    <tr>\n",
              "      <th>4</th>\n",
              "      <td>W3bqWd3T+VeHFzHAUfARgW9AvVRaF4N5Yzm4Mr6Eo/o=</td>\n",
              "      <td>140329</td>\n",
              "      <td>726</td>\n",
              "      <td>貴族精選</td>\n",
              "      <td>Traditional</td>\n",
              "      <td>Traditional</td>\n",
              "      <td>52.0</td>\n",
              "    </tr>\n",
              "  </tbody>\n",
              "</table>\n",
              "</div>"
            ],
            "text/plain": [
              "                                        song_id  ...  language\n",
              "0  CXoTN1eb7AI+DntdU1vbcwGRV4SCIDxZu+YD8JP8r4E=  ...       3.0\n",
              "1  o0kFgae9QtnYgRkVPqLJwa05zIhRlUjfF7O1tDw0ZDU=  ...      31.0\n",
              "2  DwVvVurfpuz+XPuFvucclVQEyPqcpUkHR0ne1RQzPs0=  ...      31.0\n",
              "3  dKMBWoZyScdxSkihKG+Vf47nc18N9q4m58+b4e7dSSE=  ...       3.0\n",
              "4  W3bqWd3T+VeHFzHAUfARgW9AvVRaF4N5Yzm4Mr6Eo/o=  ...      52.0\n",
              "\n",
              "[5 rows x 7 columns]"
            ]
          },
          "metadata": {},
          "execution_count": 16
        }
      ]
    },
    {
      "cell_type": "code",
      "metadata": {
        "colab": {
          "base_uri": "https://localhost:8080/"
        },
        "id": "wMRkF9KEgsyN",
        "outputId": "e175f415-e201-48c3-d018-d658d44b183d"
      },
      "source": [
        "songs.info()"
      ],
      "execution_count": null,
      "outputs": [
        {
          "output_type": "stream",
          "name": "stdout",
          "text": [
            "<class 'pandas.core.frame.DataFrame'>\n",
            "RangeIndex: 1645954 entries, 0 to 1645953\n",
            "Data columns (total 7 columns):\n",
            " #   Column       Non-Null Count    Dtype   \n",
            "---  ------       --------------    -----   \n",
            " 0   song_id      1645954 non-null  category\n",
            " 1   song_length  1645954 non-null  int32   \n",
            " 2   genre_ids    1581696 non-null  category\n",
            " 3   artist_name  1645954 non-null  category\n",
            " 4   composer     884380 non-null   category\n",
            " 5   lyricist     267159 non-null   category\n",
            " 6   language     1645953 non-null  float16 \n",
            "dtypes: category(5), float16(1), int32(1)\n",
            "memory usage: 151.9 MB\n"
          ]
        }
      ]
    },
    {
      "cell_type": "code",
      "metadata": {
        "colab": {
          "base_uri": "https://localhost:8080/",
          "height": 203
        },
        "id": "gDisQKK_g4NG",
        "outputId": "0dcee0a4-2df0-419f-f440-9b17a43859e2"
      },
      "source": [
        "ext_song.head()\n"
      ],
      "execution_count": null,
      "outputs": [
        {
          "output_type": "execute_result",
          "data": {
            "text/html": [
              "<div>\n",
              "<style scoped>\n",
              "    .dataframe tbody tr th:only-of-type {\n",
              "        vertical-align: middle;\n",
              "    }\n",
              "\n",
              "    .dataframe tbody tr th {\n",
              "        vertical-align: top;\n",
              "    }\n",
              "\n",
              "    .dataframe thead th {\n",
              "        text-align: right;\n",
              "    }\n",
              "</style>\n",
              "<table border=\"1\" class=\"dataframe\">\n",
              "  <thead>\n",
              "    <tr style=\"text-align: right;\">\n",
              "      <th></th>\n",
              "      <th>song_id</th>\n",
              "      <th>name</th>\n",
              "      <th>isrc</th>\n",
              "    </tr>\n",
              "  </thead>\n",
              "  <tbody>\n",
              "    <tr>\n",
              "      <th>0</th>\n",
              "      <td>LP7pLJoJFBvyuUwvu+oLzjT+bI+UeBPURCecJsX1jjs=</td>\n",
              "      <td>我們</td>\n",
              "      <td>TWUM71200043</td>\n",
              "    </tr>\n",
              "    <tr>\n",
              "      <th>1</th>\n",
              "      <td>ClazTFnk6r0Bnuie44bocdNMM3rdlrq0bCGAsGUWcHE=</td>\n",
              "      <td>Let Me Love You</td>\n",
              "      <td>QMZSY1600015</td>\n",
              "    </tr>\n",
              "    <tr>\n",
              "      <th>2</th>\n",
              "      <td>u2ja/bZE3zhCGxvbbOB3zOoUjx27u40cf5g09UXMoKQ=</td>\n",
              "      <td>原諒我</td>\n",
              "      <td>TWA530887303</td>\n",
              "    </tr>\n",
              "    <tr>\n",
              "      <th>3</th>\n",
              "      <td>92Fqsy0+p6+RHe2EoLKjHahORHR1Kq1TBJoClW9v+Ts=</td>\n",
              "      <td>Classic</td>\n",
              "      <td>USSM11301446</td>\n",
              "    </tr>\n",
              "    <tr>\n",
              "      <th>4</th>\n",
              "      <td>0QFmz/+rJy1Q56C1DuYqT9hKKqi5TUqx0sN0IwvoHrw=</td>\n",
              "      <td>愛投羅網</td>\n",
              "      <td>TWA471306001</td>\n",
              "    </tr>\n",
              "  </tbody>\n",
              "</table>\n",
              "</div>"
            ],
            "text/plain": [
              "                                        song_id             name          isrc\n",
              "0  LP7pLJoJFBvyuUwvu+oLzjT+bI+UeBPURCecJsX1jjs=               我們  TWUM71200043\n",
              "1  ClazTFnk6r0Bnuie44bocdNMM3rdlrq0bCGAsGUWcHE=  Let Me Love You  QMZSY1600015\n",
              "2  u2ja/bZE3zhCGxvbbOB3zOoUjx27u40cf5g09UXMoKQ=              原諒我  TWA530887303\n",
              "3  92Fqsy0+p6+RHe2EoLKjHahORHR1Kq1TBJoClW9v+Ts=          Classic  USSM11301446\n",
              "4  0QFmz/+rJy1Q56C1DuYqT9hKKqi5TUqx0sN0IwvoHrw=             愛投羅網  TWA471306001"
            ]
          },
          "metadata": {},
          "execution_count": 18
        }
      ]
    },
    {
      "cell_type": "code",
      "metadata": {
        "colab": {
          "base_uri": "https://localhost:8080/"
        },
        "id": "MDtDg1rYg710",
        "outputId": "2c34a3ae-a4ce-40b9-c5de-5766700235ed"
      },
      "source": [
        "ext_song.info()"
      ],
      "execution_count": null,
      "outputs": [
        {
          "output_type": "stream",
          "name": "stdout",
          "text": [
            "<class 'pandas.core.frame.DataFrame'>\n",
            "RangeIndex: 2090435 entries, 0 to 2090434\n",
            "Data columns (total 3 columns):\n",
            " #   Column   Dtype   \n",
            "---  ------   -----   \n",
            " 0   song_id  category\n",
            " 1   name     category\n",
            " 2   isrc     category\n",
            "dtypes: category(3)\n",
            "memory usage: 260.7 MB\n"
          ]
        }
      ]
    },
    {
      "cell_type": "code",
      "metadata": {
        "colab": {
          "base_uri": "https://localhost:8080/",
          "height": 203
        },
        "id": "D4zMaBLChC0e",
        "outputId": "dc2809ad-b1cf-4622-b008-b1de2b8f04ad"
      },
      "source": [
        "members.head()"
      ],
      "execution_count": null,
      "outputs": [
        {
          "output_type": "execute_result",
          "data": {
            "text/html": [
              "<div>\n",
              "<style scoped>\n",
              "    .dataframe tbody tr th:only-of-type {\n",
              "        vertical-align: middle;\n",
              "    }\n",
              "\n",
              "    .dataframe tbody tr th {\n",
              "        vertical-align: top;\n",
              "    }\n",
              "\n",
              "    .dataframe thead th {\n",
              "        text-align: right;\n",
              "    }\n",
              "</style>\n",
              "<table border=\"1\" class=\"dataframe\">\n",
              "  <thead>\n",
              "    <tr style=\"text-align: right;\">\n",
              "      <th></th>\n",
              "      <th>msno</th>\n",
              "      <th>city</th>\n",
              "      <th>bd</th>\n",
              "      <th>gender</th>\n",
              "      <th>registered_via</th>\n",
              "      <th>registration_init_time</th>\n",
              "      <th>expiration_date</th>\n",
              "    </tr>\n",
              "  </thead>\n",
              "  <tbody>\n",
              "    <tr>\n",
              "      <th>0</th>\n",
              "      <td>XQxgAYj3klVKjR3oxPPXYYFp4soD4TuBghkhMTD4oTw=</td>\n",
              "      <td>1</td>\n",
              "      <td>0</td>\n",
              "      <td>NaN</td>\n",
              "      <td>7</td>\n",
              "      <td>2011-08-20</td>\n",
              "      <td>2017-09-20</td>\n",
              "    </tr>\n",
              "    <tr>\n",
              "      <th>1</th>\n",
              "      <td>UizsfmJb9mV54qE9hCYyU07Va97c0lCRLEQX3ae+ztM=</td>\n",
              "      <td>1</td>\n",
              "      <td>0</td>\n",
              "      <td>NaN</td>\n",
              "      <td>7</td>\n",
              "      <td>2015-06-28</td>\n",
              "      <td>2017-06-22</td>\n",
              "    </tr>\n",
              "    <tr>\n",
              "      <th>2</th>\n",
              "      <td>D8nEhsIOBSoE6VthTaqDX8U6lqjJ7dLdr72mOyLya2A=</td>\n",
              "      <td>1</td>\n",
              "      <td>0</td>\n",
              "      <td>NaN</td>\n",
              "      <td>4</td>\n",
              "      <td>2016-04-11</td>\n",
              "      <td>2017-07-12</td>\n",
              "    </tr>\n",
              "    <tr>\n",
              "      <th>3</th>\n",
              "      <td>mCuD+tZ1hERA/o5GPqk38e041J8ZsBaLcu7nGoIIvhI=</td>\n",
              "      <td>1</td>\n",
              "      <td>0</td>\n",
              "      <td>NaN</td>\n",
              "      <td>9</td>\n",
              "      <td>2015-09-06</td>\n",
              "      <td>2015-09-07</td>\n",
              "    </tr>\n",
              "    <tr>\n",
              "      <th>4</th>\n",
              "      <td>q4HRBfVSssAFS9iRfxWrohxuk9kCYMKjHOEagUMV6rQ=</td>\n",
              "      <td>1</td>\n",
              "      <td>0</td>\n",
              "      <td>NaN</td>\n",
              "      <td>4</td>\n",
              "      <td>2017-01-26</td>\n",
              "      <td>2017-06-13</td>\n",
              "    </tr>\n",
              "  </tbody>\n",
              "</table>\n",
              "</div>"
            ],
            "text/plain": [
              "                                           msno  ...  expiration_date\n",
              "0  XQxgAYj3klVKjR3oxPPXYYFp4soD4TuBghkhMTD4oTw=  ...       2017-09-20\n",
              "1  UizsfmJb9mV54qE9hCYyU07Va97c0lCRLEQX3ae+ztM=  ...       2017-06-22\n",
              "2  D8nEhsIOBSoE6VthTaqDX8U6lqjJ7dLdr72mOyLya2A=  ...       2017-07-12\n",
              "3  mCuD+tZ1hERA/o5GPqk38e041J8ZsBaLcu7nGoIIvhI=  ...       2015-09-07\n",
              "4  q4HRBfVSssAFS9iRfxWrohxuk9kCYMKjHOEagUMV6rQ=  ...       2017-06-13\n",
              "\n",
              "[5 rows x 7 columns]"
            ]
          },
          "metadata": {},
          "execution_count": 20
        }
      ]
    },
    {
      "cell_type": "code",
      "metadata": {
        "colab": {
          "base_uri": "https://localhost:8080/"
        },
        "id": "lw34yKdkhHkx",
        "outputId": "00ce6a52-bfe7-469f-8563-79ec0f38880e"
      },
      "source": [
        "members.info()"
      ],
      "execution_count": null,
      "outputs": [
        {
          "output_type": "stream",
          "name": "stdout",
          "text": [
            "<class 'pandas.core.frame.DataFrame'>\n",
            "RangeIndex: 34403 entries, 0 to 34402\n",
            "Data columns (total 7 columns):\n",
            " #   Column                  Non-Null Count  Dtype         \n",
            "---  ------                  --------------  -----         \n",
            " 0   msno                    34403 non-null  object        \n",
            " 1   city                    34403 non-null  int64         \n",
            " 2   bd                      34403 non-null  int64         \n",
            " 3   gender                  14501 non-null  object        \n",
            " 4   registered_via          34403 non-null  int64         \n",
            " 5   registration_init_time  34403 non-null  datetime64[ns]\n",
            " 6   expiration_date         34403 non-null  datetime64[ns]\n",
            "dtypes: datetime64[ns](2), int64(3), object(2)\n",
            "memory usage: 1.8+ MB\n"
          ]
        }
      ]
    },
    {
      "cell_type": "code",
      "metadata": {
        "colab": {
          "base_uri": "https://localhost:8080/",
          "height": 279
        },
        "id": "J0Bf0Hg4hPgm",
        "outputId": "fd4caca0-221b-496d-a85b-e27a1cb84dd3"
      },
      "source": [
        "sns.countplot(y=train['target'],data=train)\n",
        "plt.ylabel('target classes')\n",
        "plt.xlabel('count of each Target ')\n",
        "plt.show()"
      ],
      "execution_count": null,
      "outputs": [
        {
          "output_type": "display_data",
          "data": {
            "image/png": "[encoded data removed]",
            "text/plain": [
              "<Figure size 432x288 with 1 Axes>"
            ]
          },
          "metadata": {
            "needs_background": "light"
          }
        }
      ]
    },
    {
      "cell_type": "code",
      "metadata": {
        "colab": {
          "base_uri": "https://localhost:8080/",
          "height": 279
        },
        "id": "ecaaWeqthVWg",
        "outputId": "873e7827-8977-43c4-86e2-7a30bc6f5c39"
      },
      "source": [
        "sns.countplot(y=train['source_type'],data=train)\n",
        "plt.ylabel('source type ')\n",
        "plt.xlabel('count of each source type')\n",
        "plt.show()"
      ],
      "execution_count": null,
      "outputs": [
        {
          "output_type": "display_data",
          "data": {
            "image/png": "[encoded data removed]",
            "text/plain": [
              "<Figure size 432x288 with 1 Axes>"
            ]
          },
          "metadata": {
            "needs_background": "light"
          }
        }
      ]
    },
    {
      "cell_type": "code",
      "metadata": {
        "id": "3zChsgJOhgZY"
      },
      "source": [
        "\n",
        "#mising values\n",
        "def miss_val(df):\n",
        "    for col in df.columns:\n",
        "        nan_count=df[col].isnull().sum()\n",
        "        total= df.shape[0]\n",
        "        pp= (nan_count/ total )* 100\n",
        "        #print(type(pp))\n",
        "        print(col,'has' ,pp,'% missing values')"
      ],
      "execution_count": null,
      "outputs": []
    },
    {
      "cell_type": "code",
      "metadata": {
        "colab": {
          "base_uri": "https://localhost:8080/"
        },
        "id": "KBn0e-3yhleR",
        "outputId": "58801c99-4357-431b-9e39-834852fc02af"
      },
      "source": [
        "print('Taning data')\n",
        "miss_val(train)"
      ],
      "execution_count": null,
      "outputs": [
        {
          "output_type": "stream",
          "name": "stdout",
          "text": [
            "Taning data\n",
            "msno has 0.0 % missing values\n",
            "song_id has 0.0 % missing values\n",
            "source_system_tab has 0.28543670093150814 % missing values\n",
            "source_screen_name has 4.580189918014084 % missing values\n",
            "source_type has 0.24023179354416518 % missing values\n",
            "target has 0.0001435076424995013 % missing values\n"
          ]
        }
      ]
    },
    {
      "cell_type": "code",
      "metadata": {
        "colab": {
          "base_uri": "https://localhost:8080/"
        },
        "id": "to_3uGPthuJc",
        "outputId": "eca85478-d0c2-4e1e-9cce-19f70eac689c"
      },
      "source": [
        "print('members  data')\n",
        "miss_val(members)"
      ],
      "execution_count": null,
      "outputs": [
        {
          "output_type": "stream",
          "name": "stdout",
          "text": [
            "members  data\n",
            "msno has 0.0 % missing values\n",
            "city has 0.0 % missing values\n",
            "bd has 0.0 % missing values\n",
            "gender has 57.84960613899951 % missing values\n",
            "registered_via has 0.0 % missing values\n",
            "registration_init_time has 0.0 % missing values\n",
            "expiration_date has 0.0 % missing values\n"
          ]
        }
      ]
    },
    {
      "cell_type": "code",
      "metadata": {
        "colab": {
          "base_uri": "https://localhost:8080/"
        },
        "id": "FlP3Tz7Nh1pS",
        "outputId": "148b5d4a-170a-4db5-ca95-ffbf6aa4b1f0"
      },
      "source": [
        "print('Song data')\n",
        "miss_val(songs)"
      ],
      "execution_count": null,
      "outputs": [
        {
          "output_type": "stream",
          "name": "stdout",
          "text": [
            "Song data\n",
            "song_id has 0.0 % missing values\n",
            "song_length has 0.0 % missing values\n",
            "genre_ids has 3.903997317057464 % missing values\n",
            "artist_name has 0.0 % missing values\n",
            "composer has 46.269458320220366 % missing values\n",
            "lyricist has 83.76874444850829 % missing values\n",
            "language has 6.075503932673696e-05 % missing values\n"
          ]
        }
      ]
    },
    {
      "cell_type": "code",
      "metadata": {
        "colab": {
          "base_uri": "https://localhost:8080/"
        },
        "id": "8OktACc_h_2s",
        "outputId": "7f4506f1-d377-46d1-f329-08fb403677e3"
      },
      "source": [
        "print('ext_song.info data')\n",
        "miss_val(ext_song)"
      ],
      "execution_count": null,
      "outputs": [
        {
          "output_type": "stream",
          "name": "stdout",
          "text": [
            "ext_song.info data\n",
            "song_id has 0.0 % missing values\n",
            "name has 0.00014351080038365222 % missing values\n",
            "isrc has 6.251091280044584 % missing values\n"
          ]
        }
      ]
    },
    {
      "cell_type": "code",
      "metadata": {
        "colab": {
          "base_uri": "https://localhost:8080/"
        },
        "id": "zTekpP3ciIxW",
        "outputId": "94c8e4e0-95e9-441e-a0ce-2a410d142ce7"
      },
      "source": [
        "train['source_system_tab'].value_counts()"
      ],
      "execution_count": null,
      "outputs": [
        {
          "output_type": "execute_result",
          "data": {
            "text/plain": [
              "my library      479614\n",
              "discover        137532\n",
              "search           28859\n",
              "radio            24090\n",
              "listen with      13550\n",
              "explore          10472\n",
              "notification       396\n",
              "settings           325\n",
              "Name: source_system_tab, dtype: int64"
            ]
          },
          "metadata": {},
          "execution_count": 29
        }
      ]
    },
    {
      "cell_type": "code",
      "metadata": {
        "id": "-sbt73aniLWa"
      },
      "source": [
        "\n",
        "#replace with my library \n",
        "train['source_system_tab'].fillna('my library',inplace=True)"
      ],
      "execution_count": null,
      "outputs": []
    },
    {
      "cell_type": "code",
      "metadata": {
        "colab": {
          "base_uri": "https://localhost:8080/"
        },
        "id": "zXXizS6LiTT_",
        "outputId": "a3d8ccef-6fe5-485f-89d7-f943c24142f1"
      },
      "source": [
        "train['source_type'].value_counts()"
      ],
      "execution_count": null,
      "outputs": [
        {
          "output_type": "execute_result",
          "data": {
            "text/plain": [
              "local-library             310811\n",
              "local-playlist            152785\n",
              "online-playlist           122971\n",
              "radio                      23975\n",
              "album                      22965\n",
              "top-hits-for-artist        22660\n",
              "song-based-playlist        13709\n",
              "listen-with                12724\n",
              "song                       11363\n",
              "artist                       678\n",
              "topic-article-playlist       511\n",
              "t                              1\n",
              "Name: source_type, dtype: int64"
            ]
          },
          "metadata": {},
          "execution_count": 31
        }
      ]
    },
    {
      "cell_type": "code",
      "metadata": {
        "id": "zwBX4VIbic5w"
      },
      "source": [
        "#replace with local-library \n",
        "train['source_type'].fillna('local-library',inplace=True)"
      ],
      "execution_count": null,
      "outputs": []
    },
    {
      "cell_type": "code",
      "metadata": {
        "colab": {
          "base_uri": "https://localhost:8080/"
        },
        "id": "MvONdEQaii-x",
        "outputId": "cc7db038-6736-4039-cb97-95003bdef899"
      },
      "source": [
        "train['source_screen_name'].value_counts()"
      ],
      "execution_count": null,
      "outputs": [
        {
          "output_type": "execute_result",
          "data": {
            "text/plain": [
              "Local playlist more     445823\n",
              "Online playlist more     78142\n",
              "Radio                    23677\n",
              "Album more               18991\n",
              "Discover Chart           17814\n",
              "Search                   14560\n",
              "Discover Feature         14547\n",
              "Artist more              13045\n",
              "Others profile more      12416\n",
              "My library               11295\n",
              "Explore                   5370\n",
              "Discover Genre            4357\n",
              "Unknown                   2207\n",
              "Search Home                779\n",
              "Discover New               694\n",
              "Search Trends              651\n",
              "My library_Search          517\n",
              "Self profile more           25\n",
              "Concert                      1\n",
              "Name: source_screen_name, dtype: int64"
            ]
          },
          "metadata": {},
          "execution_count": 33
        }
      ]
    },
    {
      "cell_type": "code",
      "metadata": {
        "colab": {
          "base_uri": "https://localhost:8080/"
        },
        "id": "3DMgENCwiqvs",
        "outputId": "fffc6fa2-927c-45ef-e0ad-3a90532026d8"
      },
      "source": [
        "print('Taning data')\n",
        "miss_val(train)"
      ],
      "execution_count": null,
      "outputs": [
        {
          "output_type": "stream",
          "name": "stdout",
          "text": [
            "Taning data\n",
            "msno has 0.0 % missing values\n",
            "song_id has 0.0 % missing values\n",
            "source_system_tab has 0.0 % missing values\n",
            "source_screen_name has 4.580189918014084 % missing values\n",
            "source_type has 0.0 % missing values\n",
            "target has 0.0001435076424995013 % missing values\n"
          ]
        }
      ]
    },
    {
      "cell_type": "code",
      "metadata": {
        "id": "pCpUWSvGizLW"
      },
      "source": [
        "members.drop(['gender'], axis =1, inplace=True)\n"
      ],
      "execution_count": null,
      "outputs": []
    },
    {
      "cell_type": "code",
      "metadata": {
        "colab": {
          "base_uri": "https://localhost:8080/"
        },
        "id": "e17snNpgi-Dk",
        "outputId": "6dccf315-01fd-4166-9c50-df22d820c504"
      },
      "source": [
        "print('members  data')\n",
        "miss_val(members)"
      ],
      "execution_count": null,
      "outputs": [
        {
          "output_type": "stream",
          "name": "stdout",
          "text": [
            "members  data\n",
            "msno has 0.0 % missing values\n",
            "city has 0.0 % missing values\n",
            "bd has 0.0 % missing values\n",
            "registered_via has 0.0 % missing values\n",
            "registration_init_time has 0.0 % missing values\n",
            "expiration_date has 0.0 % missing values\n"
          ]
        }
      ]
    },
    {
      "cell_type": "code",
      "metadata": {
        "id": "BpxAsSGwjBX3"
      },
      "source": [
        "songs.drop(['composer'], axis =1, inplace=True)\n",
        "songs.drop(['lyricist'], axis =1, inplace=True)"
      ],
      "execution_count": null,
      "outputs": []
    },
    {
      "cell_type": "code",
      "metadata": {
        "colab": {
          "base_uri": "https://localhost:8080/"
        },
        "id": "Xw9soBk4jO-H",
        "outputId": "6bb2ae86-4e15-49d9-e0c3-347cfa8cf9f7"
      },
      "source": [
        "songs['genre_ids'].value_counts()"
      ],
      "execution_count": null,
      "outputs": [
        {
          "output_type": "execute_result",
          "data": {
            "text/plain": [
              "465                  426147\n",
              "958                  122338\n",
              "2022                 119819\n",
              "1609                 118744\n",
              "2122                  96091\n",
              "                      ...  \n",
              "359|423                   1\n",
              "465|109|958               1\n",
              "465|1138|109              1\n",
              "1609|958|2086|374         1\n",
              "829|691                   1\n",
              "Name: genre_ids, Length: 963, dtype: int64"
            ]
          },
          "metadata": {},
          "execution_count": 38
        }
      ]
    },
    {
      "cell_type": "code",
      "metadata": {
        "id": "Y-9cI2NMjTZE"
      },
      "source": [
        "#replace with 465 \n",
        "songs['genre_ids'].fillna('465',inplace=True)"
      ],
      "execution_count": null,
      "outputs": []
    },
    {
      "cell_type": "code",
      "metadata": {
        "colab": {
          "base_uri": "https://localhost:8080/"
        },
        "id": "jkCx5e-Xjctf",
        "outputId": "c456c2dc-aaab-4aab-f4c5-df1757a8bc21"
      },
      "source": [
        "songs['language'].value_counts()"
      ],
      "execution_count": null,
      "outputs": [
        {
          "output_type": "execute_result",
          "data": {
            "text/plain": [
              " 52.0    937837\n",
              "-1.0     447802\n",
              " 3.0      90890\n",
              " 17.0     73208\n",
              " 24.0     33378\n",
              " 31.0     31752\n",
              " 10.0     13376\n",
              " 45.0     10103\n",
              " 59.0      5950\n",
              " 38.0      1656\n",
              " 1.0          1\n",
              "Name: language, dtype: int64"
            ]
          },
          "metadata": {},
          "execution_count": 40
        }
      ]
    },
    {
      "cell_type": "code",
      "metadata": {
        "id": "cqn5TTyYjhua"
      },
      "source": [
        "#replace with 465 \n",
        "songs['language'].fillna(52.0,inplace=True)\n"
      ],
      "execution_count": null,
      "outputs": []
    },
    {
      "cell_type": "code",
      "metadata": {
        "colab": {
          "base_uri": "https://localhost:8080/"
        },
        "id": "CQuzENILjleO",
        "outputId": "3291b952-114b-40c5-8c69-dc004550e8e6"
      },
      "source": [
        "print('songs.info data')\n",
        "miss_val(songs)"
      ],
      "execution_count": null,
      "outputs": [
        {
          "output_type": "stream",
          "name": "stdout",
          "text": [
            "songs.info data\n",
            "song_id has 0.0 % missing values\n",
            "song_length has 0.0 % missing values\n",
            "genre_ids has 0.0 % missing values\n",
            "artist_name has 0.0 % missing values\n",
            "language has 0.0 % missing values\n"
          ]
        }
      ]
    },
    {
      "cell_type": "code",
      "metadata": {
        "colab": {
          "base_uri": "https://localhost:8080/"
        },
        "id": "-ViaKs_bjqiM",
        "outputId": "255b7adc-1e5d-41c5-d27b-d9cff64513e1"
      },
      "source": [
        "ext_song['name'].value_counts()"
      ],
      "execution_count": null,
      "outputs": [
        {
          "output_type": "execute_result",
          "data": {
            "text/plain": [
              "Intro                                                      1584\n",
              "Silent Night                                                996\n",
              "White Christmas                                             904\n",
              "Jingle Bells                                                882\n",
              "Ave Maria                                                   728\n",
              "                                                           ... \n",
              "Shout| Pt. 1 & 2                                              1\n",
              "Shout| Brother| Shout                                         1\n",
              "Shouts Of Joy                                                 1\n",
              "Shouts (Alt)                                                  1\n",
              "  1. Boom (Dimitri Vangelis & Wyman Remix (Radio Edit))       1\n",
              "Name: name, Length: 1083051, dtype: int64"
            ]
          },
          "metadata": {},
          "execution_count": 43
        }
      ]
    },
    {
      "cell_type": "code",
      "metadata": {
        "id": "SNv3XPhMjw-N"
      },
      "source": [
        "#replace with Into \n",
        "ext_song['name'].fillna('Intro',inplace=True)"
      ],
      "execution_count": null,
      "outputs": []
    },
    {
      "cell_type": "code",
      "metadata": {
        "colab": {
          "base_uri": "https://localhost:8080/"
        },
        "id": "xtyxJc2kj6RY",
        "outputId": "0d03d057-408f-433a-b79a-fa27fe7aa74d"
      },
      "source": [
        "ext_song['isrc'].value_counts()"
      ],
      "execution_count": null,
      "outputs": [
        {
          "output_type": "execute_result",
          "data": {
            "text/plain": [
              "GBPS81527416    188\n",
              "GBPS81518952    183\n",
              "GBPS81518680    175\n",
              "GBPS81527413    173\n",
              "GBPS81518950    172\n",
              "               ... \n",
              "TCACT1662242      1\n",
              "TCACT1662243      1\n",
              "TCACT1662310      1\n",
              "TCACT1662358      1\n",
              "AAA201604180      1\n",
              "Name: isrc, Length: 1646601, dtype: int64"
            ]
          },
          "metadata": {},
          "execution_count": 45
        }
      ]
    },
    {
      "cell_type": "code",
      "metadata": {
        "id": "QMAFKfwmkESp"
      },
      "source": [
        "#replace with Into \n",
        "ext_song['isrc'].fillna('GBPS81518952',inplace=True)"
      ],
      "execution_count": null,
      "outputs": []
    },
    {
      "cell_type": "code",
      "metadata": {
        "colab": {
          "base_uri": "https://localhost:8080/"
        },
        "id": "Q8naMdVXkKH8",
        "outputId": "054b7817-2c59-4912-ec00-3700c1589bbb"
      },
      "source": [
        "print('ext_song.info data')\n",
        "miss_val(ext_song)"
      ],
      "execution_count": null,
      "outputs": [
        {
          "output_type": "stream",
          "name": "stdout",
          "text": [
            "ext_song.info data\n",
            "song_id has 0.0 % missing values\n",
            "name has 0.0 % missing values\n",
            "isrc has 0.0 % missing values\n"
          ]
        }
      ]
    },
    {
      "cell_type": "code",
      "metadata": {
        "id": "WoVEwEAbkYl4"
      },
      "source": [
        "#meging data\n",
        "songs_all= pd.merge(songs,ext_song,\n",
        "                     on ='song_id' ,how='left')\n",
        "train_memebrs= pd.merge(train,members,\n",
        "                    on ='msno' ,how='left')\n",
        "train_data= pd.merge(train_memebrs,songs_all,\n",
        "                     on ='song_id' ,how='left')"
      ],
      "execution_count": null,
      "outputs": []
    },
    {
      "cell_type": "code",
      "metadata": {
        "colab": {
          "base_uri": "https://localhost:8080/"
        },
        "id": "WHs1_XJikc8c",
        "outputId": "e1b3bfb4-7ae5-4757-f8f5-341a00221987"
      },
      "source": [
        "train_data.info()"
      ],
      "execution_count": null,
      "outputs": [
        {
          "output_type": "stream",
          "name": "stdout",
          "text": [
            "<class 'pandas.core.frame.DataFrame'>\n",
            "Int64Index: 696827 entries, 0 to 696826\n",
            "Data columns (total 17 columns):\n",
            " #   Column                  Non-Null Count   Dtype         \n",
            "---  ------                  --------------   -----         \n",
            " 0   msno                    696827 non-null  object        \n",
            " 1   song_id                 696827 non-null  object        \n",
            " 2   source_system_tab       696827 non-null  category      \n",
            " 3   source_screen_name      664911 non-null  category      \n",
            " 4   source_type             696827 non-null  category      \n",
            " 5   target                  696826 non-null  float16       \n",
            " 6   city                    696827 non-null  int64         \n",
            " 7   bd                      696827 non-null  int64         \n",
            " 8   registered_via          696827 non-null  int64         \n",
            " 9   registration_init_time  696827 non-null  datetime64[ns]\n",
            " 10  expiration_date         696827 non-null  datetime64[ns]\n",
            " 11  song_length             640325 non-null  float64       \n",
            " 12  genre_ids               640325 non-null  category      \n",
            " 13  artist_name             640325 non-null  category      \n",
            " 14  language                640325 non-null  float16       \n",
            " 15  name                    639923 non-null  category      \n",
            " 16  isrc                    639923 non-null  category      \n",
            "dtypes: category(7), datetime64[ns](2), float16(2), float64(1), int64(3), object(2)\n",
            "memory usage: 209.0+ MB\n"
          ]
        }
      ]
    },
    {
      "cell_type": "code",
      "metadata": {
        "id": "k22iDMhIkiY6"
      },
      "source": [
        "train_data.drop(['msno'], axis =1, inplace=True)\n",
        "train_data.drop(['song_id'], axis =1, inplace=True)\n",
        "train_data.drop(['isrc'], axis =1, inplace=True)\n",
        "train_data.drop(['artist_name'], axis =1, inplace=True)\n",
        "train_data.drop(['genre_ids'], axis =1, inplace=True)\n",
        "train_data.drop(['name'], axis =1, inplace=True)"
      ],
      "execution_count": null,
      "outputs": []
    },
    {
      "cell_type": "code",
      "metadata": {
        "colab": {
          "base_uri": "https://localhost:8080/",
          "height": 257
        },
        "id": "R7VX-hLNkoXN",
        "outputId": "b6ede354-0a39-4463-8005-1fe2fc542d3c"
      },
      "source": [
        "train_data['membership_days'] = train_data['expiration_date'].subtract(train_data['registration_init_time']).dt.days.astype(int)\n",
        "train_data['registration_year'] = train_data['registration_init_time'].dt.year\n",
        "train_data['expiration_year'] = train_data['expiration_date'].dt.year\n",
        "train_data.drop(columns = ['registration_init_time' , 'expiration_date'] , inplace = True)\n",
        "train_data.head()"
      ],
      "execution_count": null,
      "outputs": [
        {
          "output_type": "execute_result",
          "data": {
            "text/html": [
              "<div>\n",
              "<style scoped>\n",
              "    .dataframe tbody tr th:only-of-type {\n",
              "        vertical-align: middle;\n",
              "    }\n",
              "\n",
              "    .dataframe tbody tr th {\n",
              "        vertical-align: top;\n",
              "    }\n",
              "\n",
              "    .dataframe thead th {\n",
              "        text-align: right;\n",
              "    }\n",
              "</style>\n",
              "<table border=\"1\" class=\"dataframe\">\n",
              "  <thead>\n",
              "    <tr style=\"text-align: right;\">\n",
              "      <th></th>\n",
              "      <th>source_system_tab</th>\n",
              "      <th>source_screen_name</th>\n",
              "      <th>source_type</th>\n",
              "      <th>target</th>\n",
              "      <th>city</th>\n",
              "      <th>bd</th>\n",
              "      <th>registered_via</th>\n",
              "      <th>song_length</th>\n",
              "      <th>language</th>\n",
              "      <th>membership_days</th>\n",
              "      <th>registration_year</th>\n",
              "      <th>expiration_year</th>\n",
              "    </tr>\n",
              "  </thead>\n",
              "  <tbody>\n",
              "    <tr>\n",
              "      <th>0</th>\n",
              "      <td>explore</td>\n",
              "      <td>Explore</td>\n",
              "      <td>online-playlist</td>\n",
              "      <td>1.0</td>\n",
              "      <td>1</td>\n",
              "      <td>0</td>\n",
              "      <td>7</td>\n",
              "      <td>206471.0</td>\n",
              "      <td>52.0</td>\n",
              "      <td>2103</td>\n",
              "      <td>2012</td>\n",
              "      <td>2017</td>\n",
              "    </tr>\n",
              "    <tr>\n",
              "      <th>1</th>\n",
              "      <td>my library</td>\n",
              "      <td>Local playlist more</td>\n",
              "      <td>local-playlist</td>\n",
              "      <td>1.0</td>\n",
              "      <td>13</td>\n",
              "      <td>24</td>\n",
              "      <td>9</td>\n",
              "      <td>284584.0</td>\n",
              "      <td>52.0</td>\n",
              "      <td>2301</td>\n",
              "      <td>2011</td>\n",
              "      <td>2017</td>\n",
              "    </tr>\n",
              "    <tr>\n",
              "      <th>2</th>\n",
              "      <td>my library</td>\n",
              "      <td>Local playlist more</td>\n",
              "      <td>local-playlist</td>\n",
              "      <td>1.0</td>\n",
              "      <td>13</td>\n",
              "      <td>24</td>\n",
              "      <td>9</td>\n",
              "      <td>225396.0</td>\n",
              "      <td>52.0</td>\n",
              "      <td>2301</td>\n",
              "      <td>2011</td>\n",
              "      <td>2017</td>\n",
              "    </tr>\n",
              "    <tr>\n",
              "      <th>3</th>\n",
              "      <td>my library</td>\n",
              "      <td>Local playlist more</td>\n",
              "      <td>local-playlist</td>\n",
              "      <td>1.0</td>\n",
              "      <td>13</td>\n",
              "      <td>24</td>\n",
              "      <td>9</td>\n",
              "      <td>255512.0</td>\n",
              "      <td>-1.0</td>\n",
              "      <td>2301</td>\n",
              "      <td>2011</td>\n",
              "      <td>2017</td>\n",
              "    </tr>\n",
              "    <tr>\n",
              "      <th>4</th>\n",
              "      <td>explore</td>\n",
              "      <td>Explore</td>\n",
              "      <td>online-playlist</td>\n",
              "      <td>1.0</td>\n",
              "      <td>1</td>\n",
              "      <td>0</td>\n",
              "      <td>7</td>\n",
              "      <td>187802.0</td>\n",
              "      <td>52.0</td>\n",
              "      <td>2103</td>\n",
              "      <td>2012</td>\n",
              "      <td>2017</td>\n",
              "    </tr>\n",
              "  </tbody>\n",
              "</table>\n",
              "</div>"
            ],
            "text/plain": [
              "  source_system_tab   source_screen_name  ... registration_year  expiration_year\n",
              "0           explore              Explore  ...              2012             2017\n",
              "1        my library  Local playlist more  ...              2011             2017\n",
              "2        my library  Local playlist more  ...              2011             2017\n",
              "3        my library  Local playlist more  ...              2011             2017\n",
              "4           explore              Explore  ...              2012             2017\n",
              "\n",
              "[5 rows x 12 columns]"
            ]
          },
          "metadata": {},
          "execution_count": 51
        }
      ]
    },
    {
      "cell_type": "code",
      "metadata": {
        "id": "xc0xntyKk0Cw"
      },
      "source": [
        "label_encoding = ['source_system_tab', 'source_screen_name',\n",
        "       'source_type']"
      ],
      "execution_count": null,
      "outputs": []
    },
    {
      "cell_type": "code",
      "metadata": {
        "id": "QuDTxTiFqz5E"
      },
      "source": [
        "from sklearn.preprocessing import LabelEncoder"
      ],
      "execution_count": null,
      "outputs": []
    },
    {
      "cell_type": "code",
      "metadata": {
        "id": "iLTo3FMmq_B1"
      },
      "source": [
        "for f in label_encoding:\n",
        "    lb = LabelEncoder()\n",
        "    lb.fit(list(train_data[f].values) )\n",
        "    train_data[f] = lb.transform(list(train_data[f].values))"
      ],
      "execution_count": null,
      "outputs": []
    },
    {
      "cell_type": "code",
      "metadata": {
        "id": "mHW55AwLrFtF"
      },
      "source": [
        "for col in train_data.columns:\n",
        "    if train_data[col].dtype == object:\n",
        "        train_data[col] = train_data[col].astype('category')"
      ],
      "execution_count": null,
      "outputs": []
    },
    {
      "cell_type": "code",
      "metadata": {
        "colab": {
          "base_uri": "https://localhost:8080/"
        },
        "id": "ifco1LZTrUeB",
        "outputId": "7d0e3aaf-ddb7-47a3-b3fa-e83b9294d45d"
      },
      "source": [
        "print('train data')\n",
        "miss_val(train_data)"
      ],
      "execution_count": null,
      "outputs": [
        {
          "output_type": "stream",
          "name": "stdout",
          "text": [
            "train data\n",
            "source_system_tab has 0.0 % missing values\n",
            "source_screen_name has 0.0 % missing values\n",
            "source_type has 0.0 % missing values\n",
            "target has 0.0001435076424995013 % missing values\n",
            "city has 0.0 % missing values\n",
            "bd has 0.0 % missing values\n",
            "registered_via has 0.0 % missing values\n",
            "song_length has 8.108468816506823 % missing values\n",
            "language has 8.108468816506823 % missing values\n",
            "membership_days has 0.0 % missing values\n",
            "registration_year has 0.0 % missing values\n",
            "expiration_year has 0.0 % missing values\n"
          ]
        }
      ]
    },
    {
      "cell_type": "code",
      "metadata": {
        "colab": {
          "base_uri": "https://localhost:8080/"
        },
        "id": "HK-_Rpt7rYAr",
        "outputId": "59aee446-9ad4-4000-e19a-6aa5482d599a"
      },
      "source": [
        "train_data['song_length'].value_counts()"
      ],
      "execution_count": null,
      "outputs": [
        {
          "output_type": "execute_result",
          "data": {
            "text/plain": [
              "215144.0    2848\n",
              "219324.0    2795\n",
              "287328.0    2518\n",
              "227343.0    2436\n",
              "290063.0    2337\n",
              "            ... \n",
              "385985.0       1\n",
              "232892.0       1\n",
              "232865.0       1\n",
              "232864.0       1\n",
              "131053.0       1\n",
              "Name: song_length, Length: 24262, dtype: int64"
            ]
          },
          "metadata": {},
          "execution_count": 57
        }
      ]
    },
    {
      "cell_type": "code",
      "metadata": {
        "id": "1deAylECrjgw"
      },
      "source": [
        "\n",
        "#replace with Into \n",
        "train_data['song_length'].fillna(235415.0 ,inplace=True)"
      ],
      "execution_count": null,
      "outputs": []
    },
    {
      "cell_type": "code",
      "metadata": {
        "colab": {
          "base_uri": "https://localhost:8080/"
        },
        "id": "e9P7glUirw2Q",
        "outputId": "26c66f0a-054c-4504-baf8-3cb418ca2ebb"
      },
      "source": [
        "train_data['language'].value_counts()"
      ],
      "execution_count": null,
      "outputs": [
        {
          "output_type": "execute_result",
          "data": {
            "text/plain": [
              " 3.0     362779\n",
              " 52.0    160071\n",
              " 31.0     57474\n",
              "-1.0      21843\n",
              " 17.0     16865\n",
              " 10.0     14371\n",
              " 24.0      6494\n",
              " 59.0       275\n",
              " 45.0       145\n",
              " 38.0         8\n",
              "Name: language, dtype: int64"
            ]
          },
          "metadata": {},
          "execution_count": 59
        }
      ]
    },
    {
      "cell_type": "code",
      "metadata": {
        "id": "ICHGXa_xr1H9"
      },
      "source": [
        "train_data['language'].fillna(3.0 ,inplace=True)"
      ],
      "execution_count": null,
      "outputs": []
    },
    {
      "cell_type": "code",
      "metadata": {
        "colab": {
          "base_uri": "https://localhost:8080/"
        },
        "id": "jg8qqN5qr-a2",
        "outputId": "fcbfc739-533b-4732-92b4-26c199f70cdb"
      },
      "source": [
        "print('train data')\n",
        "miss_val(train_data)"
      ],
      "execution_count": null,
      "outputs": [
        {
          "output_type": "stream",
          "name": "stdout",
          "text": [
            "train data\n",
            "source_system_tab has 0.0 % missing values\n",
            "source_screen_name has 0.0 % missing values\n",
            "source_type has 0.0 % missing values\n",
            "target has 0.0001435076424995013 % missing values\n",
            "city has 0.0 % missing values\n",
            "bd has 0.0 % missing values\n",
            "registered_via has 0.0 % missing values\n",
            "song_length has 0.0 % missing values\n",
            "language has 0.0 % missing values\n",
            "membership_days has 0.0 % missing values\n",
            "registration_year has 0.0 % missing values\n",
            "expiration_year has 0.0 % missing values\n"
          ]
        }
      ]
    },
    {
      "cell_type": "code",
      "metadata": {
        "id": "47PV3n_NsJuh"
      },
      "source": [
        "train_data.replace([np.inf,-np.inf],np.nan, inplace =True)"
      ],
      "execution_count": null,
      "outputs": []
    },
    {
      "cell_type": "code",
      "metadata": {
        "colab": {
          "base_uri": "https://localhost:8080/"
        },
        "id": "5qxL9rR4sOT_",
        "outputId": "c078228c-435f-4db5-b9c5-6b7083e150cc"
      },
      "source": [
        "print('train data')\n",
        "miss_val(train_data)"
      ],
      "execution_count": null,
      "outputs": [
        {
          "output_type": "stream",
          "name": "stdout",
          "text": [
            "train data\n",
            "source_system_tab has 0.0 % missing values\n",
            "source_screen_name has 0.0 % missing values\n",
            "source_type has 0.0 % missing values\n",
            "target has 0.0001435076424995013 % missing values\n",
            "city has 0.0 % missing values\n",
            "bd has 0.0 % missing values\n",
            "registered_via has 0.0 % missing values\n",
            "song_length has 0.0 % missing values\n",
            "language has 0.0 % missing values\n",
            "membership_days has 0.0 % missing values\n",
            "registration_year has 0.0 % missing values\n",
            "expiration_year has 0.0 % missing values\n"
          ]
        }
      ]
    },
    {
      "cell_type": "code",
      "metadata": {
        "id": "kKvFFh0vsQrr"
      },
      "source": [
        "from sklearn.preprocessing import StandardScaler\n",
        "#from sklearn.linear_model import LogisticRegression\n",
        "from sklearn.svm import SVC\n",
        "from sklearn.model_selection import train_test_split\n",
        "from sklearn.metrics import accuracy_score\n",
        "from sklearn.metrics import confusion_matrix\n",
        "from sklearn.metrics import accuracy_score"
      ],
      "execution_count": null,
      "outputs": []
    },
    {
      "cell_type": "code",
      "metadata": {
        "colab": {
          "base_uri": "https://localhost:8080/"
        },
        "id": "6Yf3ztoMsfwV",
        "outputId": "14c54573-cf85-44f1-fcb6-262699f0b00c"
      },
      "source": [
        "train_data.shape"
      ],
      "execution_count": null,
      "outputs": [
        {
          "output_type": "execute_result",
          "data": {
            "text/plain": [
              "(696827, 12)"
            ]
          },
          "metadata": {},
          "execution_count": 65
        }
      ]
    },
    {
      "cell_type": "code",
      "metadata": {
        "id": "Duilb81XshMZ"
      },
      "source": [
        "train_data = train_data.sample(frac = 1)"
      ],
      "execution_count": null,
      "outputs": []
    },
    {
      "cell_type": "code",
      "metadata": {
        "id": "x95woDpJsnnn"
      },
      "source": [
        "train_data1=train_data[0:30000]"
      ],
      "execution_count": null,
      "outputs": []
    },
    {
      "cell_type": "code",
      "metadata": {
        "colab": {
          "base_uri": "https://localhost:8080/"
        },
        "id": "Es1WljHWssvH",
        "outputId": "8f769455-535e-41f8-a551-39f5892295e9"
      },
      "source": [
        "train_data1.shape"
      ],
      "execution_count": null,
      "outputs": [
        {
          "output_type": "execute_result",
          "data": {
            "text/plain": [
              "(30000, 12)"
            ]
          },
          "metadata": {},
          "execution_count": 68
        }
      ]
    },
    {
      "cell_type": "code",
      "metadata": {
        "colab": {
          "base_uri": "https://localhost:8080/",
          "height": 223
        },
        "id": "3jVEJu3ns1Ne",
        "outputId": "50903d3f-6e85-4571-d964-076653cba0ae"
      },
      "source": [
        "train_data1.head()"
      ],
      "execution_count": null,
      "outputs": [
        {
          "output_type": "execute_result",
          "data": {
            "text/html": [
              "<div>\n",
              "<style scoped>\n",
              "    .dataframe tbody tr th:only-of-type {\n",
              "        vertical-align: middle;\n",
              "    }\n",
              "\n",
              "    .dataframe tbody tr th {\n",
              "        vertical-align: top;\n",
              "    }\n",
              "\n",
              "    .dataframe thead th {\n",
              "        text-align: right;\n",
              "    }\n",
              "</style>\n",
              "<table border=\"1\" class=\"dataframe\">\n",
              "  <thead>\n",
              "    <tr style=\"text-align: right;\">\n",
              "      <th></th>\n",
              "      <th>source_system_tab</th>\n",
              "      <th>source_screen_name</th>\n",
              "      <th>source_type</th>\n",
              "      <th>target</th>\n",
              "      <th>city</th>\n",
              "      <th>bd</th>\n",
              "      <th>registered_via</th>\n",
              "      <th>song_length</th>\n",
              "      <th>language</th>\n",
              "      <th>membership_days</th>\n",
              "      <th>registration_year</th>\n",
              "      <th>expiration_year</th>\n",
              "    </tr>\n",
              "  </thead>\n",
              "  <tbody>\n",
              "    <tr>\n",
              "      <th>30733</th>\n",
              "      <td>3</td>\n",
              "      <td>8</td>\n",
              "      <td>3</td>\n",
              "      <td>0.0</td>\n",
              "      <td>1</td>\n",
              "      <td>0</td>\n",
              "      <td>7</td>\n",
              "      <td>208143.0</td>\n",
              "      <td>52.0</td>\n",
              "      <td>548</td>\n",
              "      <td>2016</td>\n",
              "      <td>2017</td>\n",
              "    </tr>\n",
              "    <tr>\n",
              "      <th>474862</th>\n",
              "      <td>5</td>\n",
              "      <td>13</td>\n",
              "      <td>6</td>\n",
              "      <td>1.0</td>\n",
              "      <td>5</td>\n",
              "      <td>54</td>\n",
              "      <td>9</td>\n",
              "      <td>240326.0</td>\n",
              "      <td>-1.0</td>\n",
              "      <td>2630</td>\n",
              "      <td>2010</td>\n",
              "      <td>2017</td>\n",
              "    </tr>\n",
              "    <tr>\n",
              "      <th>275412</th>\n",
              "      <td>0</td>\n",
              "      <td>11</td>\n",
              "      <td>5</td>\n",
              "      <td>1.0</td>\n",
              "      <td>22</td>\n",
              "      <td>32</td>\n",
              "      <td>9</td>\n",
              "      <td>283846.0</td>\n",
              "      <td>3.0</td>\n",
              "      <td>4118</td>\n",
              "      <td>2006</td>\n",
              "      <td>2017</td>\n",
              "    </tr>\n",
              "    <tr>\n",
              "      <th>273616</th>\n",
              "      <td>0</td>\n",
              "      <td>5</td>\n",
              "      <td>5</td>\n",
              "      <td>1.0</td>\n",
              "      <td>13</td>\n",
              "      <td>30</td>\n",
              "      <td>9</td>\n",
              "      <td>235415.0</td>\n",
              "      <td>3.0</td>\n",
              "      <td>4350</td>\n",
              "      <td>2005</td>\n",
              "      <td>2017</td>\n",
              "    </tr>\n",
              "    <tr>\n",
              "      <th>618297</th>\n",
              "      <td>3</td>\n",
              "      <td>8</td>\n",
              "      <td>3</td>\n",
              "      <td>1.0</td>\n",
              "      <td>1</td>\n",
              "      <td>0</td>\n",
              "      <td>7</td>\n",
              "      <td>211670.0</td>\n",
              "      <td>31.0</td>\n",
              "      <td>1216</td>\n",
              "      <td>2014</td>\n",
              "      <td>2017</td>\n",
              "    </tr>\n",
              "  </tbody>\n",
              "</table>\n",
              "</div>"
            ],
            "text/plain": [
              "        source_system_tab  ...  expiration_year\n",
              "30733                   3  ...             2017\n",
              "474862                  5  ...             2017\n",
              "275412                  0  ...             2017\n",
              "273616                  0  ...             2017\n",
              "618297                  3  ...             2017\n",
              "\n",
              "[5 rows x 12 columns]"
            ]
          },
          "metadata": {},
          "execution_count": 69
        }
      ]
    },
    {
      "cell_type": "code",
      "metadata": {
        "id": "ME-LyISis_NI"
      },
      "source": [
        "x = train_data1.drop(['target'], axis =1)\n",
        "y = train_data1['target']"
      ],
      "execution_count": null,
      "outputs": []
    },
    {
      "cell_type": "code",
      "metadata": {
        "id": "PwCb6kTAtBAv"
      },
      "source": [
        "x_train, x_test, y_train, y_test = train_test_split(x, y, test_size = 0.3, random_state = 0)"
      ],
      "execution_count": null,
      "outputs": []
    },
    {
      "cell_type": "code",
      "metadata": {
        "colab": {
          "base_uri": "https://localhost:8080/"
        },
        "id": "-gYE6l8ctHlS",
        "outputId": "bd11cd05-3b51-4901-9683-4e0743893a74"
      },
      "source": [
        "x_train.info()"
      ],
      "execution_count": null,
      "outputs": [
        {
          "output_type": "stream",
          "name": "stdout",
          "text": [
            "<class 'pandas.core.frame.DataFrame'>\n",
            "Int64Index: 21000 entries, 191988 to 559657\n",
            "Data columns (total 11 columns):\n",
            " #   Column              Non-Null Count  Dtype  \n",
            "---  ------              --------------  -----  \n",
            " 0   source_system_tab   21000 non-null  int64  \n",
            " 1   source_screen_name  21000 non-null  int64  \n",
            " 2   source_type         21000 non-null  int64  \n",
            " 3   city                21000 non-null  int64  \n",
            " 4   bd                  21000 non-null  int64  \n",
            " 5   registered_via      21000 non-null  int64  \n",
            " 6   song_length         21000 non-null  float64\n",
            " 7   language            21000 non-null  float16\n",
            " 8   membership_days     21000 non-null  int64  \n",
            " 9   registration_year   21000 non-null  int64  \n",
            " 10  expiration_year     21000 non-null  int64  \n",
            "dtypes: float16(1), float64(1), int64(9)\n",
            "memory usage: 1.8 MB\n"
          ]
        }
      ]
    },
    {
      "cell_type": "code",
      "metadata": {
        "colab": {
          "base_uri": "https://localhost:8080/",
          "height": 315
        },
        "id": "n1ubDOfetOZI",
        "outputId": "4795fa7a-51d4-4ee7-dcd0-7d265f85062f"
      },
      "source": [
        "x_train.describe()"
      ],
      "execution_count": null,
      "outputs": [
        {
          "output_type": "execute_result",
          "data": {
            "text/html": [
              "<div>\n",
              "<style scoped>\n",
              "    .dataframe tbody tr th:only-of-type {\n",
              "        vertical-align: middle;\n",
              "    }\n",
              "\n",
              "    .dataframe tbody tr th {\n",
              "        vertical-align: top;\n",
              "    }\n",
              "\n",
              "    .dataframe thead th {\n",
              "        text-align: right;\n",
              "    }\n",
              "</style>\n",
              "<table border=\"1\" class=\"dataframe\">\n",
              "  <thead>\n",
              "    <tr style=\"text-align: right;\">\n",
              "      <th></th>\n",
              "      <th>source_system_tab</th>\n",
              "      <th>source_screen_name</th>\n",
              "      <th>source_type</th>\n",
              "      <th>city</th>\n",
              "      <th>bd</th>\n",
              "      <th>registered_via</th>\n",
              "      <th>song_length</th>\n",
              "      <th>language</th>\n",
              "      <th>membership_days</th>\n",
              "      <th>registration_year</th>\n",
              "      <th>expiration_year</th>\n",
              "    </tr>\n",
              "  </thead>\n",
              "  <tbody>\n",
              "    <tr>\n",
              "      <th>count</th>\n",
              "      <td>21000.000000</td>\n",
              "      <td>21000.000000</td>\n",
              "      <td>21000.000000</td>\n",
              "      <td>21000.000000</td>\n",
              "      <td>21000.000000</td>\n",
              "      <td>21000.000000</td>\n",
              "      <td>2.100000e+04</td>\n",
              "      <td>21000.0000</td>\n",
              "      <td>21000.000000</td>\n",
              "      <td>21000.000000</td>\n",
              "      <td>21000.000000</td>\n",
              "    </tr>\n",
              "    <tr>\n",
              "      <th>mean</th>\n",
              "      <td>2.552000</td>\n",
              "      <td>8.739048</td>\n",
              "      <td>3.962333</td>\n",
              "      <td>7.481476</td>\n",
              "      <td>17.291190</td>\n",
              "      <td>6.756619</td>\n",
              "      <td>2.450583e+05</td>\n",
              "      <td>inf</td>\n",
              "      <td>1635.786810</td>\n",
              "      <td>2012.718905</td>\n",
              "      <td>2017.065952</td>\n",
              "    </tr>\n",
              "    <tr>\n",
              "      <th>std</th>\n",
              "      <td>1.475472</td>\n",
              "      <td>3.504516</td>\n",
              "      <td>1.736831</td>\n",
              "      <td>6.552846</td>\n",
              "      <td>18.076292</td>\n",
              "      <td>2.303500</td>\n",
              "      <td>4.937335e+04</td>\n",
              "      <td>20.6875</td>\n",
              "      <td>1116.990536</td>\n",
              "      <td>2.986163</td>\n",
              "      <td>0.400940</td>\n",
              "    </tr>\n",
              "    <tr>\n",
              "      <th>min</th>\n",
              "      <td>0.000000</td>\n",
              "      <td>0.000000</td>\n",
              "      <td>0.000000</td>\n",
              "      <td>1.000000</td>\n",
              "      <td>-43.000000</td>\n",
              "      <td>3.000000</td>\n",
              "      <td>4.736000e+03</td>\n",
              "      <td>-1.0000</td>\n",
              "      <td>0.000000</td>\n",
              "      <td>2004.000000</td>\n",
              "      <td>2008.000000</td>\n",
              "    </tr>\n",
              "    <tr>\n",
              "      <th>25%</th>\n",
              "      <td>3.000000</td>\n",
              "      <td>8.000000</td>\n",
              "      <td>3.000000</td>\n",
              "      <td>1.000000</td>\n",
              "      <td>0.000000</td>\n",
              "      <td>4.000000</td>\n",
              "      <td>2.189282e+05</td>\n",
              "      <td>3.0000</td>\n",
              "      <td>720.000000</td>\n",
              "      <td>2011.000000</td>\n",
              "      <td>2017.000000</td>\n",
              "    </tr>\n",
              "    <tr>\n",
              "      <th>50%</th>\n",
              "      <td>3.000000</td>\n",
              "      <td>8.000000</td>\n",
              "      <td>3.000000</td>\n",
              "      <td>5.000000</td>\n",
              "      <td>21.000000</td>\n",
              "      <td>7.000000</td>\n",
              "      <td>2.375050e+05</td>\n",
              "      <td>3.0000</td>\n",
              "      <td>1430.000000</td>\n",
              "      <td>2013.000000</td>\n",
              "      <td>2017.000000</td>\n",
              "    </tr>\n",
              "    <tr>\n",
              "      <th>75%</th>\n",
              "      <td>3.000000</td>\n",
              "      <td>9.000000</td>\n",
              "      <td>5.000000</td>\n",
              "      <td>13.000000</td>\n",
              "      <td>28.000000</td>\n",
              "      <td>9.000000</td>\n",
              "      <td>2.705038e+05</td>\n",
              "      <td>31.0000</td>\n",
              "      <td>2269.000000</td>\n",
              "      <td>2015.000000</td>\n",
              "      <td>2017.000000</td>\n",
              "    </tr>\n",
              "    <tr>\n",
              "      <th>max</th>\n",
              "      <td>7.000000</td>\n",
              "      <td>19.000000</td>\n",
              "      <td>11.000000</td>\n",
              "      <td>22.000000</td>\n",
              "      <td>931.000000</td>\n",
              "      <td>13.000000</td>\n",
              "      <td>1.698864e+06</td>\n",
              "      <td>59.0000</td>\n",
              "      <td>5141.000000</td>\n",
              "      <td>2016.000000</td>\n",
              "      <td>2020.000000</td>\n",
              "    </tr>\n",
              "  </tbody>\n",
              "</table>\n",
              "</div>"
            ],
            "text/plain": [
              "       source_system_tab  ...  expiration_year\n",
              "count       21000.000000  ...     21000.000000\n",
              "mean            2.552000  ...      2017.065952\n",
              "std             1.475472  ...         0.400940\n",
              "min             0.000000  ...      2008.000000\n",
              "25%             3.000000  ...      2017.000000\n",
              "50%             3.000000  ...      2017.000000\n",
              "75%             3.000000  ...      2017.000000\n",
              "max             7.000000  ...      2020.000000\n",
              "\n",
              "[8 rows x 11 columns]"
            ]
          },
          "metadata": {},
          "execution_count": 73
        }
      ]
    },
    {
      "cell_type": "code",
      "metadata": {
        "id": "ihjHLRUXtURA"
      },
      "source": [
        "sc=StandardScaler()\n",
        "x_train=sc.fit_transform(x_train)\n",
        "x_test=sc.fit_transform(x_test)"
      ],
      "execution_count": null,
      "outputs": []
    },
    {
      "cell_type": "code",
      "metadata": {
        "colab": {
          "base_uri": "https://localhost:8080/"
        },
        "id": "LW2nQNNRtZzn",
        "outputId": "c2d03a6e-6f0f-416b-be89-14454960ca51"
      },
      "source": [
        "np.isnan(x_test.any())"
      ],
      "execution_count": null,
      "outputs": [
        {
          "output_type": "execute_result",
          "data": {
            "text/plain": [
              "False"
            ]
          },
          "metadata": {},
          "execution_count": 75
        }
      ]
    },
    {
      "cell_type": "code",
      "metadata": {
        "colab": {
          "base_uri": "https://localhost:8080/"
        },
        "id": "MhNoPg8btgS-",
        "outputId": "44cdfbe5-0d0c-4102-8d2c-40a4a069dcec"
      },
      "source": [
        "clf = SVC(kernel='linear', C=1.0, random_state=0)\n",
        "clf.fit(x_train, y_train)"
      ],
      "execution_count": null,
      "outputs": [
        {
          "output_type": "execute_result",
          "data": {
            "text/plain": [
              "SVC(C=1.0, break_ties=False, cache_size=200, class_weight=None, coef0=0.0,\n",
              "    decision_function_shape='ovr', degree=3, gamma='scale', kernel='linear',\n",
              "    max_iter=-1, probability=False, random_state=0, shrinking=True, tol=0.001,\n",
              "    verbose=False)"
            ]
          },
          "metadata": {},
          "execution_count": 76
        }
      ]
    },
    {
      "cell_type": "code",
      "metadata": {
        "colab": {
          "base_uri": "https://localhost:8080/"
        },
        "id": "oH3h6y26toWc",
        "outputId": "92f8a313-313a-4c79-837c-5888a75e951b"
      },
      "source": [
        "y_pp=clf.predict(x_test)\n",
        "print (\"Test - Accuracy :\", accuracy_score(y_test, y_pp))\n",
        "print (\"Test -  Confusion matrix :\\n\",confusion_matrix(y_test, y_pp))"
      ],
      "execution_count": null,
      "outputs": [
        {
          "output_type": "stream",
          "name": "stdout",
          "text": [
            "Test - Accuracy : 0.713\n",
            "Test -  Confusion matrix :\n",
            " [[   0 2583]\n",
            " [   0 6417]]\n"
          ]
        }
      ]
    },
    {
      "cell_type": "code",
      "metadata": {
        "id": "ujbo8hvltvTA"
      },
      "source": [
        ""
      ],
      "execution_count": null,
      "outputs": []
    }
  ]
}